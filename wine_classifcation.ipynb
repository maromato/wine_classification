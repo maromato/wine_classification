{
 "cells": [
  {
   "cell_type": "code",
   "execution_count": 2,
   "metadata": {
    "collapsed": true
   },
   "outputs": [],
   "source": [
    "%load_ext autoreload\n",
    "%autoreload 2\n",
    "%matplotlib inline"
   ]
  },
  {
   "cell_type": "code",
   "execution_count": 3,
   "metadata": {},
   "outputs": [
    {
     "name": "stderr",
     "output_type": "stream",
     "text": [
      "/anaconda/lib/python2.7/site-packages/sklearn/cross_validation.py:44: DeprecationWarning: This module was deprecated in version 0.18 in favor of the model_selection module into which all the refactored classes and functions are moved. Also note that the interface of the new CV iterators are different from that of this module. This module will be removed in 0.20.\n",
      "  \"This module will be removed in 0.20.\", DeprecationWarning)\n"
     ]
    }
   ],
   "source": [
    "from Bio import SeqIO\n",
    "from Bio.Align import MultipleSeqAlignment\n",
    "from collections import Counter\n",
    "from sklearn.cross_validation import train_test_split, ShuffleSplit\n",
    "from sklearn.ensemble import RandomForestClassifier\n",
    "from sklearn.tree import DecisionTreeClassifier\n",
    "from sklearn.metrics import auc, roc_auc_score, accuracy_score, roc_curve\n",
    "from sklearn.preprocessing import LabelBinarizer\n",
    "from util.isoelectric_point import isoelectric_points\n",
    "\n",
    "import numpy as np\n",
    "import pandas as pd\n",
    "import matplotlib.pyplot as plt\n",
    "import seaborn as sns\n",
    "sns.set_style('white')\n",
    "sns.set_context('notebook')"
   ]
  },
  {
   "cell_type": "code",
   "execution_count": 4,
   "metadata": {
    "collapsed": true
   },
   "outputs": [],
   "source": [
    "df_wine = pd.read_csv(\"http://archive.ics.uci.edu/ml/machine-learning-databases/wine/wine.data\", header=None)\n",
    "X, y = df_wine.iloc[:, 1:].values, df_wine.iloc[:, 0].values\n",
    "X = (X - X.mean(axis=0)) / X.std(axis=0)\n",
    "\n"
   ]
  },
  {
   "cell_type": "code",
   "execution_count": 5,
   "metadata": {
    "collapsed": true
   },
   "outputs": [],
   "source": [
    "#Chalk Talk Time!\n",
    "#We're almost ready for training a machine learning model to classify the unknown hosts based on their sequence.\n",
    "#Here's the proper procedure.\n",
    "#Split the labelled data into a training and testing set. (~70 train/30 test to 80 train/20 test)\n",
    "#Train and evaluate a model on the training set.\n",
    "#Make predictions on the testing set, evaluate the model on testing set accuracy.\n",
    "#This procedure is known as cross-validation, and is a powerful, yet cheap & easy method for evaluating how good a particular supervised learning model works.\n",
    "X_train, X_test, y_train, y_test = train_test_split(X, y, test_size=0.2)"
   ]
  },
  {
   "cell_type": "code",
   "execution_count": 6,
   "metadata": {},
   "outputs": [
    {
     "name": "stdout",
     "output_type": "stream",
     "text": [
      "[1 1 2 1 2 2 3 2 1 3 2 2 1 1 1 1 1 3 3 2 3 2 2 2 2 1 2 1 2 2 3 2 2 2 1 1 2\n",
      " 3 1 2 2 1 3 3 2 1 2 1 2 3 2 1 1 3 3 2 3 2 3 2 1 3 3 2 1 2 2 1 2 1 2 3 1 2\n",
      " 1 2 3 2 1 3 3 2 1 2 1 2 1 1 3 3 3 3 2 1 1 3 2 3 3 2 2 1 2 1 2 3 2 1 2 2 1\n",
      " 3 2 2 3 1 1 3 1 2 2 3 2 1 2 3 3 1 1 3 2 3 2 2 1 2 2 2 1 1 3 2]\n",
      "[1 1 2 1 3 2 2 3 3 1 2 2 3 1 3 3 2 1 1 3 1 1 1 3 1 1 3 1 2 2 1 2 3 3 2 2]\n"
     ]
    }
   ],
   "source": [
    "# Train a Random Forest Classifier.\n",
    "# Note: This cell takes a while; any questions?\n",
    "\n",
    "# Initialize the classifier object.\n",
    "clf = RandomForestClassifier()\n",
    "\n",
    "# Train (i.e. \"fit\") the classifier to the training Xs and Ys\n",
    "clf.fit(X_train, y_train)\n",
    "\n",
    "# Make predictions on the test X\n",
    "y_preds = clf.predict(X_test)\n",
    "y_preds\n",
    "print(y_train)\n",
    "print(y_test)"
   ]
  },
  {
   "cell_type": "code",
   "execution_count": 7,
   "metadata": {},
   "outputs": [
    {
     "data": {
      "text/plain": [
       "0.94444444444444442"
      ]
     },
     "execution_count": 7,
     "metadata": {},
     "output_type": "execute_result"
    }
   ],
   "source": [
    "# Let's first take a look at the accuracy score: the fraction that were classified correctly.\n",
    "accuracy_score(y_test, y_preds)"
   ]
  },
  {
   "cell_type": "markdown",
   "metadata": {},
   "source": [
    "How do we interpret what the classifier learned?\n",
    "Depending on the classifier used, you can peer inside the model to get a feel for what the classifier learned about the features that best predict the class label.\n",
    "The RandomForestClassifier provides a feature_importances_ attribute that we can access and plot."
   ]
  },
  {
   "cell_type": "code",
   "execution_count": 8,
   "metadata": {
    "scrolled": true
   },
   "outputs": [
    {
     "data": {
      "text/plain": [
       "[<matplotlib.lines.Line2D at 0x11b25f690>]"
      ]
     },
     "execution_count": 8,
     "metadata": {},
     "output_type": "execute_result"
    },
    {
     "data": {
      "image/png": "[encoded data removed]",
      "text/plain": [
       "<matplotlib.figure.Figure at 0x11b234a50>"
      ]
     },
     "metadata": {},
     "output_type": "display_data"
    }
   ],
   "source": [
    "plt.plot(clf.feature_importances_)"
   ]
  },
  {
   "cell_type": "code",
   "execution_count": 9,
   "metadata": {},
   "outputs": [
    {
     "data": {
      "text/plain": [
       "DecisionTreeClassifier(class_weight=None, criterion='gini', max_depth=None,\n",
       "            max_features=None, max_leaf_nodes=None,\n",
       "            min_impurity_split=1e-07, min_samples_leaf=1,\n",
       "            min_samples_split=2, min_weight_fraction_leaf=0.0,\n",
       "            presort=False, random_state=None, splitter='best')"
      ]
     },
     "execution_count": 9,
     "metadata": {},
     "output_type": "execute_result"
    }
   ],
   "source": [
    "#Hands-On Exercises¶\n",
    "#Now that you've seen the coding pattern for classification using the RandomForestClassifier, try it out for the DecisionTreeClassifier, evaluate its accuracy, and if applicable, try doing the \"peering inside\" of the model.\n",
    "clf2 = DecisionTreeClassifier()\n",
    "clf2.fit(X_train, y_train)"
   ]
  },
  {
   "cell_type": "code",
   "execution_count": 10,
   "metadata": {},
   "outputs": [
    {
     "data": {
      "text/plain": [
       "array([1, 1, 2, 1, 3, 1, 2, 3, 3, 1, 2, 2, 3, 1, 3, 3, 2, 1, 1, 3, 1, 1, 1,\n",
       "       3, 1, 1, 1, 1, 2, 2, 1, 2, 3, 3, 2, 2])"
      ]
     },
     "execution_count": 10,
     "metadata": {},
     "output_type": "execute_result"
    }
   ],
   "source": [
    "preds = clf2.predict(X_test)\n",
    "preds"
   ]
  },
  {
   "cell_type": "code",
   "execution_count": 11,
   "metadata": {},
   "outputs": [
    {
     "data": {
      "text/plain": [
       "0.94444444444444442"
      ]
     },
     "execution_count": 11,
     "metadata": {},
     "output_type": "execute_result"
    }
   ],
   "source": [
    "accuracy_score(preds, y_test)"
   ]
  },
  {
   "cell_type": "code",
   "execution_count": 20,
   "metadata": {},
   "outputs": [
    {
     "data": {
      "text/plain": [
       "[<matplotlib.lines.Line2D at 0x11bd4ffd0>]"
      ]
     },
     "execution_count": 20,
     "metadata": {},
     "output_type": "execute_result"
    },
    {
     "data": {
      "image/png": "[encoded data removed]",
      "text/plain": [
       "<matplotlib.figure.Figure at 0x11bbeb790>"
      ]
     },
     "metadata": {},
     "output_type": "display_data"
    }
   ],
   "source": [
    "plt.plot(clf2.tree_.compute_feature_importances())"
   ]
  },
  {
   "cell_type": "code",
   "execution_count": 22,
   "metadata": {},
   "outputs": [
    {
     "data": {
      "text/plain": [
       "<matplotlib.collections.PathCollection at 0x11bee6890>"
      ]
     },
     "execution_count": 22,
     "metadata": {},
     "output_type": "execute_result"
    },
    {
     "data": {
      "image/png": "[encoded data removed]",
      "text/plain": [
       "<matplotlib.figure.Figure at 0x11bd6a0d0>"
      ]
     },
     "metadata": {},
     "output_type": "display_data"
    }
   ],
   "source": [
    "plt.scatter(preds, y_test)"
   ]
  },
  {
   "cell_type": "code",
   "execution_count": 25,
   "metadata": {},
   "outputs": [
    {
     "data": {
      "text/plain": [
       "<bound method DataFrame.head of      0      1     2     3     4    5     6     7     8     9          10  \\\n",
       "0     1  14.23  1.71  2.43  15.6  127  2.80  3.06  0.28  2.29   5.640000   \n",
       "1     1  13.20  1.78  2.14  11.2  100  2.65  2.76  0.26  1.28   4.380000   \n",
       "2     1  13.16  2.36  2.67  18.6  101  2.80  3.24  0.30  2.81   5.680000   \n",
       "3     1  14.37  1.95  2.50  16.8  113  3.85  3.49  0.24  2.18   7.800000   \n",
       "4     1  13.24  2.59  2.87  21.0  118  2.80  2.69  0.39  1.82   4.320000   \n",
       "5     1  14.20  1.76  2.45  15.2  112  3.27  3.39  0.34  1.97   6.750000   \n",
       "6     1  14.39  1.87  2.45  14.6   96  2.50  2.52  0.30  1.98   5.250000   \n",
       "7     1  14.06  2.15  2.61  17.6  121  2.60  2.51  0.31  1.25   5.050000   \n",
       "8     1  14.83  1.64  2.17  14.0   97  2.80  2.98  0.29  1.98   5.200000   \n",
       "9     1  13.86  1.35  2.27  16.0   98  2.98  3.15  0.22  1.85   7.220000   \n",
       "10    1  14.10  2.16  2.30  18.0  105  2.95  3.32  0.22  2.38   5.750000   \n",
       "11    1  14.12  1.48  2.32  16.8   95  2.20  2.43  0.26  1.57   5.000000   \n",
       "12    1  13.75  1.73  2.41  16.0   89  2.60  2.76  0.29  1.81   5.600000   \n",
       "13    1  14.75  1.73  2.39  11.4   91  3.10  3.69  0.43  2.81   5.400000   \n",
       "14    1  14.38  1.87  2.38  12.0  102  3.30  3.64  0.29  2.96   7.500000   \n",
       "15    1  13.63  1.81  2.70  17.2  112  2.85  2.91  0.30  1.46   7.300000   \n",
       "16    1  14.30  1.92  2.72  20.0  120  2.80  3.14  0.33  1.97   6.200000   \n",
       "17    1  13.83  1.57  2.62  20.0  115  2.95  3.40  0.40  1.72   6.600000   \n",
       "18    1  14.19  1.59  2.48  16.5  108  3.30  3.93  0.32  1.86   8.700000   \n",
       "19    1  13.64  3.10  2.56  15.2  116  2.70  3.03  0.17  1.66   5.100000   \n",
       "20    1  14.06  1.63  2.28  16.0  126  3.00  3.17  0.24  2.10   5.650000   \n",
       "21    1  12.93  3.80  2.65  18.6  102  2.41  2.41  0.25  1.98   4.500000   \n",
       "22    1  13.71  1.86  2.36  16.6  101  2.61  2.88  0.27  1.69   3.800000   \n",
       "23    1  12.85  1.60  2.52  17.8   95  2.48  2.37  0.26  1.46   3.930000   \n",
       "24    1  13.50  1.81  2.61  20.0   96  2.53  2.61  0.28  1.66   3.520000   \n",
       "25    1  13.05  2.05  3.22  25.0  124  2.63  2.68  0.47  1.92   3.580000   \n",
       "26    1  13.39  1.77  2.62  16.1   93  2.85  2.94  0.34  1.45   4.800000   \n",
       "27    1  13.30  1.72  2.14  17.0   94  2.40  2.19  0.27  1.35   3.950000   \n",
       "28    1  13.87  1.90  2.80  19.4  107  2.95  2.97  0.37  1.76   4.500000   \n",
       "29    1  14.02  1.68  2.21  16.0   96  2.65  2.33  0.26  1.98   4.700000   \n",
       "..   ..    ...   ...   ...   ...  ...   ...   ...   ...   ...        ...   \n",
       "148   3  13.32  3.24  2.38  21.5   92  1.93  0.76  0.45  1.25   8.420000   \n",
       "149   3  13.08  3.90  2.36  21.5  113  1.41  1.39  0.34  1.14   9.400000   \n",
       "150   3  13.50  3.12  2.62  24.0  123  1.40  1.57  0.22  1.25   8.600000   \n",
       "151   3  12.79  2.67  2.48  22.0  112  1.48  1.36  0.24  1.26  10.800000   \n",
       "152   3  13.11  1.90  2.75  25.5  116  2.20  1.28  0.26  1.56   7.100000   \n",
       "153   3  13.23  3.30  2.28  18.5   98  1.80  0.83  0.61  1.87  10.520000   \n",
       "154   3  12.58  1.29  2.10  20.0  103  1.48  0.58  0.53  1.40   7.600000   \n",
       "155   3  13.17  5.19  2.32  22.0   93  1.74  0.63  0.61  1.55   7.900000   \n",
       "156   3  13.84  4.12  2.38  19.5   89  1.80  0.83  0.48  1.56   9.010000   \n",
       "157   3  12.45  3.03  2.64  27.0   97  1.90  0.58  0.63  1.14   7.500000   \n",
       "158   3  14.34  1.68  2.70  25.0   98  2.80  1.31  0.53  2.70  13.000000   \n",
       "159   3  13.48  1.67  2.64  22.5   89  2.60  1.10  0.52  2.29  11.750000   \n",
       "160   3  12.36  3.83  2.38  21.0   88  2.30  0.92  0.50  1.04   7.650000   \n",
       "161   3  13.69  3.26  2.54  20.0  107  1.83  0.56  0.50  0.80   5.880000   \n",
       "162   3  12.85  3.27  2.58  22.0  106  1.65  0.60  0.60  0.96   5.580000   \n",
       "163   3  12.96  3.45  2.35  18.5  106  1.39  0.70  0.40  0.94   5.280000   \n",
       "164   3  13.78  2.76  2.30  22.0   90  1.35  0.68  0.41  1.03   9.580000   \n",
       "165   3  13.73  4.36  2.26  22.5   88  1.28  0.47  0.52  1.15   6.620000   \n",
       "166   3  13.45  3.70  2.60  23.0  111  1.70  0.92  0.43  1.46  10.680000   \n",
       "167   3  12.82  3.37  2.30  19.5   88  1.48  0.66  0.40  0.97  10.260000   \n",
       "168   3  13.58  2.58  2.69  24.5  105  1.55  0.84  0.39  1.54   8.660000   \n",
       "169   3  13.40  4.60  2.86  25.0  112  1.98  0.96  0.27  1.11   8.500000   \n",
       "170   3  12.20  3.03  2.32  19.0   96  1.25  0.49  0.40  0.73   5.500000   \n",
       "171   3  12.77  2.39  2.28  19.5   86  1.39  0.51  0.48  0.64   9.899999   \n",
       "172   3  14.16  2.51  2.48  20.0   91  1.68  0.70  0.44  1.24   9.700000   \n",
       "173   3  13.71  5.65  2.45  20.5   95  1.68  0.61  0.52  1.06   7.700000   \n",
       "174   3  13.40  3.91  2.48  23.0  102  1.80  0.75  0.43  1.41   7.300000   \n",
       "175   3  13.27  4.28  2.26  20.0  120  1.59  0.69  0.43  1.35  10.200000   \n",
       "176   3  13.17  2.59  2.37  20.0  120  1.65  0.68  0.53  1.46   9.300000   \n",
       "177   3  14.13  4.10  2.74  24.5   96  2.05  0.76  0.56  1.35   9.200000   \n",
       "\n",
       "       11    12    13  \n",
       "0    1.04  3.92  1065  \n",
       "1    1.05  3.40  1050  \n",
       "2    1.03  3.17  1185  \n",
       "3    0.86  3.45  1480  \n",
       "4    1.04  2.93   735  \n",
       "5    1.05  2.85  1450  \n",
       "6    1.02  3.58  1290  \n",
       "7    1.06  3.58  1295  \n",
       "8    1.08  2.85  1045  \n",
       "9    1.01  3.55  1045  \n",
       "10   1.25  3.17  1510  \n",
       "11   1.17  2.82  1280  \n",
       "12   1.15  2.90  1320  \n",
       "13   1.25  2.73  1150  \n",
       "14   1.20  3.00  1547  \n",
       "15   1.28  2.88  1310  \n",
       "16   1.07  2.65  1280  \n",
       "17   1.13  2.57  1130  \n",
       "18   1.23  2.82  1680  \n",
       "19   0.96  3.36   845  \n",
       "20   1.09  3.71   780  \n",
       "21   1.03  3.52   770  \n",
       "22   1.11  4.00  1035  \n",
       "23   1.09  3.63  1015  \n",
       "24   1.12  3.82   845  \n",
       "25   1.13  3.20   830  \n",
       "26   0.92  3.22  1195  \n",
       "27   1.02  2.77  1285  \n",
       "28   1.25  3.40   915  \n",
       "29   1.04  3.59  1035  \n",
       "..    ...   ...   ...  \n",
       "148  0.55  1.62   650  \n",
       "149  0.57  1.33   550  \n",
       "150  0.59  1.30   500  \n",
       "151  0.48  1.47   480  \n",
       "152  0.61  1.33   425  \n",
       "153  0.56  1.51   675  \n",
       "154  0.58  1.55   640  \n",
       "155  0.60  1.48   725  \n",
       "156  0.57  1.64   480  \n",
       "157  0.67  1.73   880  \n",
       "158  0.57  1.96   660  \n",
       "159  0.57  1.78   620  \n",
       "160  0.56  1.58   520  \n",
       "161  0.96  1.82   680  \n",
       "162  0.87  2.11   570  \n",
       "163  0.68  1.75   675  \n",
       "164  0.70  1.68   615  \n",
       "165  0.78  1.75   520  \n",
       "166  0.85  1.56   695  \n",
       "167  0.72  1.75   685  \n",
       "168  0.74  1.80   750  \n",
       "169  0.67  1.92   630  \n",
       "170  0.66  1.83   510  \n",
       "171  0.57  1.63   470  \n",
       "172  0.62  1.71   660  \n",
       "173  0.64  1.74   740  \n",
       "174  0.70  1.56   750  \n",
       "175  0.59  1.56   835  \n",
       "176  0.60  1.62   840  \n",
       "177  0.61  1.60   560  \n",
       "\n",
       "[178 rows x 14 columns]>"
      ]
     },
     "execution_count": 25,
     "metadata": {},
     "output_type": "execute_result"
    }
   ],
   "source": [
    "df_wine.head"
   ]
  },
  {
   "cell_type": "code",
   "execution_count": null,
   "metadata": {
    "collapsed": true
   },
   "outputs": [],
   "source": []
  }
 ],
 "metadata": {
  "kernelspec": {
   "display_name": "Python 2",
   "language": "python",
   "name": "python2"
  },
  "language_info": {
   "codemirror_mode": {
    "name": "ipython",
    "version": 2
   },
   "file_extension": ".py",
   "mimetype": "text/x-python",
   "name": "python",
   "nbconvert_exporter": "python",
   "pygments_lexer": "ipython2",
   "version": "2.7.13"
  }
 },
 "nbformat": 4,
 "nbformat_minor": 2
}
